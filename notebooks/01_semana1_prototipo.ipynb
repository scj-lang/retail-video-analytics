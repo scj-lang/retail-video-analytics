{
 "cells": [
  {
   "cell_type": "markdown",
   "metadata": {},
   "source": [
    "# Retail Video Analytics - Semana 1 Prototipo\n",
    "\n",
    "Este notebook contiene el prototipo inicial del sistema de video-analytics para retail.\n",
    "\n",
    "## Objetivos\n",
    "- Detectar personas usando YOLOv8\n",
    "- Implementar tracking anónimo con ByteTrack\n",
    "- Definir y monitorear Zonas de Interés (ROIs)\n",
    "- Generar eventos y métricas básicas"
   ]
  },
  {
   "cell_type": "markdown",
   "metadata": {},
   "source": [
    "## Instalación de Dependencias\n",
    "\n",
    "Ejecutar esta celda en Google Colab para instalar las dependencias necesarias:"
   ]
  },
  {
   "cell_type": "code",
   "execution_count": null,
   "metadata": {},
   "outputs": [],
   "source": [
    "# Instalar dependencias en Colab\n",
    "!pip install ultralytics opencv-python supervision shapely numpy pandas\n",
    "\n",
    "# Descargar modelo YOLOv8 (se descarga automáticamente en el primer uso)\n",
    "from ultralytics import YOLO\n",
    "model = YOLO('yolov8n.pt')\n",
    "print(\"Modelo YOLOv8n descargado y listo\")"
   ]
  },
  {
   "cell_type": "markdown",
   "metadata": {},
   "source": [
    "## Configuración Inicial"
   ]
  },
  {
   "cell_type": "code",
   "execution_count": null,
   "metadata": {},
   "outputs": [],
   "source": [
    "import cv2\n",
    "import numpy as np\n",
    "import pandas as pd\n",
    "import json\n",
    "from pathlib import Path\n",
    "import matplotlib.pyplot as plt\n",
    "from IPython.display import Video, display\n",
    "\n",
    "# Configurar matplotlib para notebook\n",
    "%matplotlib inline\n",
    "\n",
    "print(\"Librerías importadas correctamente\")"
   ]
  },
  {
   "cell_type": "markdown",
   "metadata": {},
   "source": [
    "## Demo: Detección Básica con YOLOv8"
   ]
  },
  {
   "cell_type": "code",
   "execution_count": null,
   "metadata": {},
   "outputs": [],
   "source": [
    "# Demo básico: detectar personas en una imagen\n",
    "from ultralytics import YOLO\n",
    "\n",
    "# Cargar modelo\n",
    "model = YOLO('yolov8n.pt')\n",
    "\n",
    "# Ejemplo con imagen de prueba (puedes subir tu propia imagen)\n",
    "# results = model('path/to/your/image.jpg', classes=[0])  # clase 0 = persona\n",
    "\n",
    "# Para este demo, usaremos una imagen de ejemplo\n",
    "print(\"Modelo cargado. Para probar detección, proporciona una imagen o video.\")"
   ]
  },
  {
   "cell_type": "markdown",
   "metadata": {},
   "source": [
    "## Demo: Pipeline Completo"
   ]
  },
  {
   "cell_type": "code",
   "execution_count": null,
   "metadata": {},
   "outputs": [],
   "source": [
    "# Ejemplo de uso del pipeline completo\n",
    "# Nota: Necesitas un video de prueba para ejecutar esto\n",
    "\n",
    "\"\"\"\n",
    "# Ejemplo de uso (descomenta y ajusta las rutas):\n",
    "\n",
    "import sys\n",
    "sys.path.append('../src')\n",
    "\n",
    "from tracker_pipeline import RetailTracker\n",
    "\n",
    "# Inicializar tracker\n",
    "tracker = RetailTracker(\n",
    "    model_path='yolov8n.pt',\n",
    "    roi_config='../src/config/rois_cartagena.json'\n",
    ")\n",
    "\n",
    "# Procesar video\n",
    "tracker.process_video(\n",
    "    input_path='path/to/your/video.mp4',\n",
    "    output_dir='../data/processed/'\n",
    ")\n",
    "\"\"\"\n",
    "\n",
    "print(\"Pipeline code ready. Uncomment and provide video path to test.\")"
   ]
  },
  {
   "cell_type": "markdown",
   "metadata": {},
   "source": [
    "## Visualización de Resultados"
   ]
  },
  {
   "cell_type": "code",
   "execution_count": null,
   "metadata": {},
   "outputs": [],
   "source": [
    "# Visualizar eventos generados (ejemplo)\n",
    "\n",
    "\"\"\"\n",
    "# Cargar eventos desde CSV\n",
    "events_df = pd.read_csv('../data/logs/video_sample_events.csv')\n",
    "\n",
    "# Mostrar estadísticas básicas\n",
    "print(\"Resumen de eventos:\")\n",
    "print(events_df['event_type'].value_counts())\n",
    "print(\"\\nEventos por ROI:\")\n",
    "print(events_df['roi_name'].value_counts())\n",
    "\n",
    "# Gráfico de eventos por tiempo\n",
    "plt.figure(figsize=(12, 6))\n",
    "events_df['timestamp_min'] = events_df['timestamp'] / 60\n",
    "events_df.groupby('timestamp_min').size().plot(kind='line')\n",
    "plt.title('Eventos por minuto')\n",
    "plt.xlabel('Tiempo (minutos)')\n",
    "plt.ylabel('Número de eventos')\n",
    "plt.show()\n",
    "\"\"\"\n",
    "\n",
    "print(\"Visualization code ready. Process a video first to generate events.\")"
   ]
  },
  {
   "cell_type": "markdown",
   "metadata": {},
   "source": [
    "## Notas y Próximos Pasos\n",
    "\n",
    "### Completado en Semana 1:\n",
    "- [ ] Estructura básica del proyecto\n",
    "- [ ] Detección con YOLOv8\n",
    "- [ ] Tracking con ByteTrack\n",
    "- [ ] Editor de ROIs\n",
    "- [ ] Pipeline de procesamiento\n",
    "\n",
    "### Para Semana 2:\n",
    "- [ ] Optimización de rendimiento\n",
    "- [ ] Métricas avanzadas (tiempo de permanencia, flujo)\n",
    "- [ ] Dashboard de visualización\n",
    "- [ ] Detección de eventos complejos\n",
    "\n",
    "### Instrucciones de Uso:\n",
    "1. Definir ROIs: `python ../src/roi_editor.py --input video.mp4`\n",
    "2. Procesar video: `python ../src/tracker_pipeline.py --input video.mp4 --output ../data/processed/`\n",
    "3. Analizar resultados en este notebook"
   ]
  }
 ],
 "metadata": {
  "kernelspec": {
   "display_name": "Python 3",
   "language": "python",
   "name": "python3"
  },
  "language_info": {
   "codemirror_mode": {
    "name": "ipython",
    "version": 3
   },
   "file_extension": ".py",
   "mimetype": "text/x-python",
   "name": "python",
   "nbconvert_exporter": "python",
   "pygments_lexer": "ipython3",
   "version": "3.8.0"
  }
 },
 "nbformat": 4,
 "nbformat_minor": 4
}